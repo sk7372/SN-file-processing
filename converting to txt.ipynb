{
 "cells": [
  {
   "cell_type": "code",
   "execution_count": 6,
   "metadata": {
    "collapsed": true
   },
   "outputs": [],
   "source": [
    "import json \n",
    "import matplotlib.pyplot as plt\n",
    "import numpy as np"
   ]
  },
  {
   "cell_type": "code",
   "execution_count": 7,
   "metadata": {
    "collapsed": false
   },
   "outputs": [],
   "source": [
    "data_file = 'sn2003id.public.dat'\n",
    "if data_file[-4:] == \"json\": \n",
    "    with open(data_file) as json_file:\n",
    "        data = json.load(json_file) ##makes sure that this code still works for json files\n",
    "        json_file.close()"
   ]
  },
  {
   "cell_type": "code",
   "execution_count": 10,
   "metadata": {
    "collapsed": false
   },
   "outputs": [],
   "source": [
    "def get_dat_list(dat_file):\n",
    "    lst_of_string = []\n",
    "    lst_of_lst = []\n",
    "    with open(dat_file) as file:\n",
    "        for line in file:\n",
    "            lst_of_string.append(line.strip()) ##converts file into a list of strings\n",
    "    for element in lst_of_string:\n",
    "        lst_of_lst.append(element.split()) ##converts lists of strings into list of lists\n",
    "    for i in range(0, 3):\n",
    "        lst_of_lst.pop(i) ##removes some title text\n",
    "    return lst_of_lst\n",
    "        "
   ]
  },
  {
   "cell_type": "code",
   "execution_count": 11,
   "metadata": {
    "collapsed": false
   },
   "outputs": [],
   "source": [
    "id_data = get_dat_list(\"sn2003id.public.dat\")"
   ]
  },
  {
   "cell_type": "code",
   "execution_count": 12,
   "metadata": {
    "collapsed": true
   },
   "outputs": [],
   "source": [
    "def filter_vband(lst):\n",
    "    vband_data = []\n",
    "    for element in lst:\n",
    "        if element[4] == \"V\":\n",
    "            vband_data.append(element) ##only gets V band data\n",
    "    return vband_data"
   ]
  },
  {
   "cell_type": "code",
   "execution_count": 13,
   "metadata": {
    "collapsed": false
   },
   "outputs": [
    {
     "data": {
      "text/plain": [
       "[['52902.41', '17.13339', '0.01467', 'nan', 'V', 'kait'],\n",
       " ['52903.42', '17.17093', '0.02184', 'nan', 'V', 'kait'],\n",
       " ['52905.45', '17.21278', '0.01546', 'nan', 'V', 'kait'],\n",
       " ['52907.46', '17.18148', '0.02585', 'nan', 'V', 'kait'],\n",
       " ['52909.39', '17.05820', '0.02077', 'nan', 'V', 'kait'],\n",
       " ['52909.47', '17.08494', '0.01001', 'nan', 'V', 'nickel'],\n",
       " ['52911.39', '16.97960', '0.03158', 'nan', 'V', 'kait'],\n",
       " ['52913.43', '17.09402', '0.01957', 'nan', 'V', 'kait'],\n",
       " ['52915.40', '17.22482', '0.02655', 'nan', 'V', 'kait'],\n",
       " ['52917.39', '17.40903', '0.02274', 'nan', 'V', 'kait'],\n",
       " ['52919.33', '17.57043', '0.04589', 'nan', 'V', 'kait'],\n",
       " ['52926.43', '18.62236', '0.28311', 'nan', 'V', 'kait'],\n",
       " ['52928.32', '18.61547', '0.09173', 'nan', 'V', 'kait'],\n",
       " ['52930.36', '18.74843', '0.05797', 'nan', 'V', 'kait'],\n",
       " ['52933.40', '19.01305', '0.09027', 'nan', 'V', 'kait'],\n",
       " ['52936.35', '19.17244', '0.12613', 'nan', 'V', 'kait'],\n",
       " ['52938.41', '19.61824', '0.15824', 'nan', 'V', 'nickel'],\n",
       " ['52939.29', '19.63284', '0.18229', 'nan', 'V', 'kait'],\n",
       " ['52939.35', '19.48495', '0.05332', 'nan', 'V', 'nickel'],\n",
       " ['52945.32', '19.83616', '0.18110', 'nan', 'V', 'kait']]"
      ]
     },
     "execution_count": 13,
     "metadata": {},
     "output_type": "execute_result"
    }
   ],
   "source": [
    "vband_2003id = filter_vband(id_data)\n",
    "vband_2003id"
   ]
  },
  {
   "cell_type": "code",
   "execution_count": 14,
   "metadata": {
    "collapsed": true
   },
   "outputs": [],
   "source": [
    "def get_MJD_time(vband_lst):\n",
    "    MJD_lst = []\n",
    "    for element in vband_lst:\n",
    "        MJD_float = float(element[0]) ##converting times to floats and putting them in a list\n",
    "        MJD_lst.append(MJD_float) \n",
    "    return MJD_lst"
   ]
  },
  {
   "cell_type": "code",
   "execution_count": 15,
   "metadata": {
    "collapsed": false
   },
   "outputs": [
    {
     "data": {
      "text/plain": [
       "[52902.41,\n",
       " 52903.42,\n",
       " 52905.45,\n",
       " 52907.46,\n",
       " 52909.39,\n",
       " 52909.47,\n",
       " 52911.39,\n",
       " 52913.43,\n",
       " 52915.4,\n",
       " 52917.39,\n",
       " 52919.33,\n",
       " 52926.43,\n",
       " 52928.32,\n",
       " 52930.36,\n",
       " 52933.4,\n",
       " 52936.35,\n",
       " 52938.41,\n",
       " 52939.29,\n",
       " 52939.35,\n",
       " 52945.32]"
      ]
     },
     "execution_count": 15,
     "metadata": {},
     "output_type": "execute_result"
    }
   ],
   "source": [
    "MJD_2003id = get_MJD_time(vband_2003id)\n",
    "MJD_2003id"
   ]
  },
  {
   "cell_type": "code",
   "execution_count": 16,
   "metadata": {
    "collapsed": true
   },
   "outputs": [],
   "source": [
    "def get_MJD_mag(vband_lst):\n",
    "    mag_lst = []\n",
    "    for element in vband_lst:\n",
    "        mag_float = float(element[1]) ##converting mags to float and putting them in a list\n",
    "        mag_lst.append(mag_float)\n",
    "    return mag_lst"
   ]
  },
  {
   "cell_type": "code",
   "execution_count": 17,
   "metadata": {
    "collapsed": false
   },
   "outputs": [
    {
     "data": {
      "text/plain": [
       "[17.13339,\n",
       " 17.17093,\n",
       " 17.21278,\n",
       " 17.18148,\n",
       " 17.0582,\n",
       " 17.08494,\n",
       " 16.9796,\n",
       " 17.09402,\n",
       " 17.22482,\n",
       " 17.40903,\n",
       " 17.57043,\n",
       " 18.62236,\n",
       " 18.61547,\n",
       " 18.74843,\n",
       " 19.01305,\n",
       " 19.17244,\n",
       " 19.61824,\n",
       " 19.63284,\n",
       " 19.48495,\n",
       " 19.83616]"
      ]
     },
     "execution_count": 17,
     "metadata": {},
     "output_type": "execute_result"
    }
   ],
   "source": [
    "mag_2003id = get_MJD_mag(vband_2003id)\n",
    "mag_2003id"
   ]
  },
  {
   "cell_type": "code",
   "execution_count": 18,
   "metadata": {
    "collapsed": true
   },
   "outputs": [],
   "source": [
    "def get_MJD_emag(vband_lst):\n",
    "    emag_lst = []\n",
    "    for element in vband_lst:\n",
    "        emag_float = float(element[2]) ##converting emags to float and putting them in a list\n",
    "        emag_lst.append(emag_float)\n",
    "    return emag_lst"
   ]
  },
  {
   "cell_type": "code",
   "execution_count": 19,
   "metadata": {
    "collapsed": false
   },
   "outputs": [
    {
     "data": {
      "text/plain": [
       "[0.01467,\n",
       " 0.02184,\n",
       " 0.01546,\n",
       " 0.02585,\n",
       " 0.02077,\n",
       " 0.01001,\n",
       " 0.03158,\n",
       " 0.01957,\n",
       " 0.02655,\n",
       " 0.02274,\n",
       " 0.04589,\n",
       " 0.28311,\n",
       " 0.09173,\n",
       " 0.05797,\n",
       " 0.09027,\n",
       " 0.12613,\n",
       " 0.15824,\n",
       " 0.18229,\n",
       " 0.05332,\n",
       " 0.1811]"
      ]
     },
     "execution_count": 19,
     "metadata": {},
     "output_type": "execute_result"
    }
   ],
   "source": [
    "emag_2003id = get_MJD_emag(vband_2003id)\n",
    "emag_2003id"
   ]
  },
  {
   "cell_type": "code",
   "execution_count": 6,
   "metadata": {
    "collapsed": false
   },
   "outputs": [],
   "source": [
    "def get_key(data):\n",
    "    supernova_type = \"\"\n",
    "    for key in data.keys():\n",
    "        if key[0:1] == \"SN\":\n",
    "            supernova_type = key\n",
    "    return key\n",
    "            \n",
    "        "
   ]
  },
  {
   "cell_type": "code",
   "execution_count": 7,
   "metadata": {
    "collapsed": false
   },
   "outputs": [],
   "source": [
    "supernova_key = get_key(data)"
   ]
  },
  {
   "cell_type": "code",
   "execution_count": 8,
   "metadata": {
    "collapsed": false
   },
   "outputs": [
    {
     "data": {
      "text/plain": [
       "dict_keys(['host', 'lumdist', 'ra', 'discoverdate', 'maxvisualdate', 'hostoffsetang', 'maxband', 'maxabsmag', 'hostra', 'sources', 'hostdec', 'ebv', 'photometry', 'maxvisualband', 'maxdate', 'discoverer', 'hostoffsetdist', 'alias', 'spectra', 'comovingdist', 'maxappmag', 'schema', 'dec', 'name', 'claimedtype', 'hostvelocity', 'velocity', 'maxvisualappmag', 'maxvisualabsmag', 'redshift'])"
      ]
     },
     "execution_count": 8,
     "metadata": {},
     "output_type": "execute_result"
    }
   ],
   "source": [
    "data[supernova_key].keys()"
   ]
  },
  {
   "cell_type": "code",
   "execution_count": 13,
   "metadata": {
    "collapsed": false
   },
   "outputs": [],
   "source": [
    "def get_phot(data):\n",
    "    phot_lst = []\n",
    "    for element in data[supernova_key].keys():\n",
    "        if element == \"phot\":\n",
    "            phot_lst = data[supernova_key][element]\n",
    "        elif element == \"photometry\":\n",
    "            phot_lst = data[supernova_key][element]\n",
    "    return phot_lst"
   ]
  },
  {
   "cell_type": "code",
   "execution_count": 14,
   "metadata": {
    "collapsed": false
   },
   "outputs": [],
   "source": [
    "phot = get_phot(data)"
   ]
  },
  {
   "cell_type": "code",
   "execution_count": 20,
   "metadata": {
    "collapsed": true
   },
   "outputs": [],
   "source": [
    "def v_band(phot_lst):\n",
    "    lst_time = []\n",
    "    lst_magnitude = []\n",
    "    lst_emagnitude = []\n",
    "    for i in range(len(phot_lst)):\n",
    "        obs = phot_lst[i]\n",
    "        band = obs['band']\n",
    "        if band == 'V':\n",
    "            lst_time.append(float(obs['time']))\n",
    "            lst_magnitude.append(float(obs['magnitude']))\n",
    "            try:\n",
    "                lst_emagnitude.append(float(obs['e_magnitude']))\n",
    "            except KeyError:\n",
    "                lst_emagnitude.append(0.0)\n",
    "    return lst_time, lst_magnitude, lst_emagnitude\n",
    "    "
   ]
  },
  {
   "cell_type": "code",
   "execution_count": 21,
   "metadata": {
    "collapsed": true
   },
   "outputs": [],
   "source": [
    "t, v_mag, e_mag = v_band(phot)"
   ]
  },
  {
   "cell_type": "code",
   "execution_count": 20,
   "metadata": {
    "collapsed": false
   },
   "outputs": [],
   "source": [
    "matrix = []\n",
    "matrix.append(MJD_2003id)\n",
    "matrix.append(mag_2003id)\n",
    "matrix.append(emag_2003id)"
   ]
  },
  {
   "cell_type": "code",
   "execution_count": 21,
   "metadata": {
    "collapsed": true
   },
   "outputs": [],
   "source": [
    "matrix = np.array(matrix)"
   ]
  },
  {
   "cell_type": "code",
   "execution_count": 22,
   "metadata": {
    "collapsed": false
   },
   "outputs": [
    {
     "data": {
      "text/plain": [
       "(3, 20)"
      ]
     },
     "execution_count": 22,
     "metadata": {},
     "output_type": "execute_result"
    }
   ],
   "source": [
    "matrix.shape"
   ]
  },
  {
   "cell_type": "code",
   "execution_count": 23,
   "metadata": {
    "collapsed": false
   },
   "outputs": [
    {
     "data": {
      "text/plain": [
       "(20, 3)"
      ]
     },
     "execution_count": 23,
     "metadata": {},
     "output_type": "execute_result"
    }
   ],
   "source": [
    "matrix.T.shape"
   ]
  },
  {
   "cell_type": "code",
   "execution_count": 31,
   "metadata": {
    "collapsed": true
   },
   "outputs": [],
   "source": [
    "np.savetxt('2011hs_dat', matrix.T)"
   ]
  },
  {
   "cell_type": "code",
   "execution_count": null,
   "metadata": {
    "collapsed": true
   },
   "outputs": [],
   "source": []
  }
 ],
 "metadata": {
  "kernelspec": {
   "display_name": "Python 3",
   "language": "python",
   "name": "python3"
  },
  "language_info": {
   "codemirror_mode": {
    "name": "ipython",
    "version": 3
   },
   "file_extension": ".py",
   "mimetype": "text/x-python",
   "name": "python",
   "nbconvert_exporter": "python",
   "pygments_lexer": "ipython3",
   "version": "3.5.5"
  }
 },
 "nbformat": 4,
 "nbformat_minor": 2
}
